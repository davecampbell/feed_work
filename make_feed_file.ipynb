{
 "cells": [
  {
   "cell_type": "code",
   "execution_count": 116,
   "id": "1706a16b",
   "metadata": {},
   "outputs": [],
   "source": [
    "from randomtimestamp import randomtimestamp, random_date, random_time\n",
    "from datetime import datetime, date, time, timedelta\n",
    "import pandas as pd"
   ]
  },
  {
   "cell_type": "code",
   "execution_count": 117,
   "id": "82baef5f",
   "metadata": {},
   "outputs": [
    {
     "data": {
      "text/plain": [
       "'\\nrandomtimestamp(\\n    start_year: int = 1950,\\n    end_year: int = None,\\n    text: bool = False,\\n    start: datetime.datetime = None,\\n    end: datetime.datetime = None,\\n    pattern: str = \"%d-%m-%Y %H:%M:%S\"\\n    ) -> Union[datetime, str]:\\n'"
      ]
     },
     "execution_count": 117,
     "metadata": {},
     "output_type": "execute_result"
    }
   ],
   "source": [
    "\"\"\"\n",
    "randomtimestamp(\n",
    "    start_year: int = 1950,\n",
    "    end_year: int = None,\n",
    "    text: bool = False,\n",
    "    start: datetime.datetime = None,\n",
    "    end: datetime.datetime = None,\n",
    "    pattern: str = \"%d-%m-%Y %H:%M:%S\"\n",
    "    ) -> Union[datetime, str]:\n",
    "\"\"\""
   ]
  },
  {
   "cell_type": "code",
   "execution_count": 118,
   "id": "be8f4ceb",
   "metadata": {},
   "outputs": [
    {
     "data": {
      "text/plain": [
       "'\\nrandom_time(\\n    start: datetime.time = time.min,\\n    end: datetime.time = time.max,\\n    text: bool = False,\\n    pattern: str = \"%H:%M:%S\"\\n    ) -> Union[time, str]:\\n'"
      ]
     },
     "execution_count": 118,
     "metadata": {},
     "output_type": "execute_result"
    }
   ],
   "source": [
    "\"\"\"\n",
    "random_time(\n",
    "    start: datetime.time = time.min,\n",
    "    end: datetime.time = time.max,\n",
    "    text: bool = False,\n",
    "    pattern: str = \"%H:%M:%S\"\n",
    "    ) -> Union[time, str]:\n",
    "\"\"\""
   ]
  },
  {
   "cell_type": "code",
   "execution_count": 119,
   "id": "7a7bff60",
   "metadata": {},
   "outputs": [
    {
     "data": {
      "text/plain": [
       "'\\nrandom_date(\\n    start: datetime.date = date(1950, 1, 1),\\n    end: datetime.date = datetime.today().date(),\\n    text: bool = False,\\n    pattern: str = \"%d-%m-%Y\"\\n    ) -> Union[date, str]:\\n'"
      ]
     },
     "execution_count": 119,
     "metadata": {},
     "output_type": "execute_result"
    }
   ],
   "source": [
    "\"\"\"\n",
    "random_date(\n",
    "    start: datetime.date = date(1950, 1, 1),\n",
    "    end: datetime.date = datetime.today().date(),\n",
    "    text: bool = False,\n",
    "    pattern: str = \"%d-%m-%Y\"\n",
    "    ) -> Union[date, str]:\n",
    "\"\"\""
   ]
  },
  {
   "cell_type": "code",
   "execution_count": 120,
   "id": "29e5f7ba",
   "metadata": {},
   "outputs": [],
   "source": [
    "start = time(8,0,0)"
   ]
  },
  {
   "cell_type": "code",
   "execution_count": 121,
   "id": "eff3f9cb",
   "metadata": {},
   "outputs": [],
   "source": [
    "end = time(17,0,0)"
   ]
  },
  {
   "cell_type": "code",
   "execution_count": 122,
   "id": "31ed84d7",
   "metadata": {},
   "outputs": [],
   "source": [
    "startdate = date(2021,8,1)"
   ]
  },
  {
   "cell_type": "code",
   "execution_count": 123,
   "id": "23fc38cd",
   "metadata": {},
   "outputs": [],
   "source": [
    "theday = startdate"
   ]
  },
  {
   "cell_type": "code",
   "execution_count": 124,
   "id": "f0d892d7",
   "metadata": {},
   "outputs": [],
   "source": [
    "feeds = []"
   ]
  },
  {
   "cell_type": "code",
   "execution_count": 125,
   "id": "17126d4b",
   "metadata": {},
   "outputs": [],
   "source": [
    "for days in range(0,13):\n",
    "    for i in range(0,30):\n",
    "        f = datetime.combine(theday, random_time(start=start, end=end))\n",
    "        feeds.append(f.strftime(\"%Y-%m-%d %H:%M:%S\"))\n",
    "    theday = startdate + timedelta(days = days)"
   ]
  },
  {
   "cell_type": "code",
   "execution_count": 126,
   "id": "49e7710d",
   "metadata": {},
   "outputs": [],
   "source": [
    "feeds.sort()"
   ]
  },
  {
   "cell_type": "code",
   "execution_count": 127,
   "id": "576a32f7",
   "metadata": {},
   "outputs": [],
   "source": [
    "df = pd.DataFrame(feeds)"
   ]
  },
  {
   "cell_type": "code",
   "execution_count": 128,
   "id": "6a8dd572",
   "metadata": {},
   "outputs": [],
   "source": [
    "df.to_csv(\"feed_list.csv\", header=None, index=False)"
   ]
  },
  {
   "cell_type": "code",
   "execution_count": null,
   "id": "8668a97d",
   "metadata": {},
   "outputs": [],
   "source": []
  },
  {
   "cell_type": "code",
   "execution_count": null,
   "id": "2892b423",
   "metadata": {},
   "outputs": [],
   "source": []
  }
 ],
 "metadata": {
  "kernelspec": {
   "display_name": "Python 3 (ipykernel)",
   "language": "python",
   "name": "python3"
  },
  "language_info": {
   "codemirror_mode": {
    "name": "ipython",
    "version": 3
   },
   "file_extension": ".py",
   "mimetype": "text/x-python",
   "name": "python",
   "nbconvert_exporter": "python",
   "pygments_lexer": "ipython3",
   "version": "3.9.7"
  }
 },
 "nbformat": 4,
 "nbformat_minor": 5
}
