{
 "cells": [
  {
   "cell_type": "code",
   "execution_count": 1,
   "id": "d78b1922",
   "metadata": {},
   "outputs": [],
   "source": [
    "# read in feed file and calculate the intervals (sunf) to next feed"
   ]
  },
  {
   "cell_type": "code",
   "execution_count": 2,
   "id": "d5d1cb89",
   "metadata": {},
   "outputs": [],
   "source": [
    "import pandas as pd"
   ]
  },
  {
   "cell_type": "code",
   "execution_count": 3,
   "id": "ea313e49",
   "metadata": {},
   "outputs": [],
   "source": [
    "feedfilename = \"feed_list.csv\""
   ]
  },
  {
   "cell_type": "code",
   "execution_count": 10,
   "id": "d1983459",
   "metadata": {},
   "outputs": [],
   "source": [
    "df = pd.read_csv(feedfilename, header=None, names=['ts'] )"
   ]
  },
  {
   "cell_type": "code",
   "execution_count": 11,
   "id": "ca93892f",
   "metadata": {},
   "outputs": [
    {
     "data": {
      "text/html": [
       "<div>\n",
       "<style scoped>\n",
       "    .dataframe tbody tr th:only-of-type {\n",
       "        vertical-align: middle;\n",
       "    }\n",
       "\n",
       "    .dataframe tbody tr th {\n",
       "        vertical-align: top;\n",
       "    }\n",
       "\n",
       "    .dataframe thead th {\n",
       "        text-align: right;\n",
       "    }\n",
       "</style>\n",
       "<table border=\"1\" class=\"dataframe\">\n",
       "  <thead>\n",
       "    <tr style=\"text-align: right;\">\n",
       "      <th></th>\n",
       "      <th>ts</th>\n",
       "    </tr>\n",
       "  </thead>\n",
       "  <tbody>\n",
       "    <tr>\n",
       "      <th>0</th>\n",
       "      <td>2021-08-01 08:10:03</td>\n",
       "    </tr>\n",
       "    <tr>\n",
       "      <th>1</th>\n",
       "      <td>2021-08-01 08:25:49</td>\n",
       "    </tr>\n",
       "    <tr>\n",
       "      <th>2</th>\n",
       "      <td>2021-08-01 08:32:12</td>\n",
       "    </tr>\n",
       "    <tr>\n",
       "      <th>3</th>\n",
       "      <td>2021-08-01 08:35:24</td>\n",
       "    </tr>\n",
       "    <tr>\n",
       "      <th>4</th>\n",
       "      <td>2021-08-01 08:45:27</td>\n",
       "    </tr>\n",
       "  </tbody>\n",
       "</table>\n",
       "</div>"
      ],
      "text/plain": [
       "                    ts\n",
       "0  2021-08-01 08:10:03\n",
       "1  2021-08-01 08:25:49\n",
       "2  2021-08-01 08:32:12\n",
       "3  2021-08-01 08:35:24\n",
       "4  2021-08-01 08:45:27"
      ]
     },
     "execution_count": 11,
     "metadata": {},
     "output_type": "execute_result"
    }
   ],
   "source": [
    "df.head()"
   ]
  },
  {
   "cell_type": "code",
   "execution_count": 21,
   "id": "2c8a120e",
   "metadata": {},
   "outputs": [],
   "source": [
    "tdf = pd.DataFrame(pd.to_datetime(df['ts']))"
   ]
  },
  {
   "cell_type": "code",
   "execution_count": 22,
   "id": "8df6fba3",
   "metadata": {},
   "outputs": [
    {
     "data": {
      "text/html": [
       "<div>\n",
       "<style scoped>\n",
       "    .dataframe tbody tr th:only-of-type {\n",
       "        vertical-align: middle;\n",
       "    }\n",
       "\n",
       "    .dataframe tbody tr th {\n",
       "        vertical-align: top;\n",
       "    }\n",
       "\n",
       "    .dataframe thead th {\n",
       "        text-align: right;\n",
       "    }\n",
       "</style>\n",
       "<table border=\"1\" class=\"dataframe\">\n",
       "  <thead>\n",
       "    <tr style=\"text-align: right;\">\n",
       "      <th></th>\n",
       "      <th>ts</th>\n",
       "    </tr>\n",
       "  </thead>\n",
       "  <tbody>\n",
       "    <tr>\n",
       "      <th>0</th>\n",
       "      <td>2021-08-01 08:10:03</td>\n",
       "    </tr>\n",
       "    <tr>\n",
       "      <th>1</th>\n",
       "      <td>2021-08-01 08:25:49</td>\n",
       "    </tr>\n",
       "    <tr>\n",
       "      <th>2</th>\n",
       "      <td>2021-08-01 08:32:12</td>\n",
       "    </tr>\n",
       "    <tr>\n",
       "      <th>3</th>\n",
       "      <td>2021-08-01 08:35:24</td>\n",
       "    </tr>\n",
       "    <tr>\n",
       "      <th>4</th>\n",
       "      <td>2021-08-01 08:45:27</td>\n",
       "    </tr>\n",
       "  </tbody>\n",
       "</table>\n",
       "</div>"
      ],
      "text/plain": [
       "                   ts\n",
       "0 2021-08-01 08:10:03\n",
       "1 2021-08-01 08:25:49\n",
       "2 2021-08-01 08:32:12\n",
       "3 2021-08-01 08:35:24\n",
       "4 2021-08-01 08:45:27"
      ]
     },
     "execution_count": 22,
     "metadata": {},
     "output_type": "execute_result"
    }
   ],
   "source": [
    "tdf.head()"
   ]
  },
  {
   "cell_type": "code",
   "execution_count": 24,
   "id": "52bb1fc8",
   "metadata": {},
   "outputs": [],
   "source": [
    "tdf['tunf'] = tdf['ts'].diff()"
   ]
  },
  {
   "cell_type": "code",
   "execution_count": 25,
   "id": "12f065bd",
   "metadata": {},
   "outputs": [
    {
     "data": {
      "text/html": [
       "<div>\n",
       "<style scoped>\n",
       "    .dataframe tbody tr th:only-of-type {\n",
       "        vertical-align: middle;\n",
       "    }\n",
       "\n",
       "    .dataframe tbody tr th {\n",
       "        vertical-align: top;\n",
       "    }\n",
       "\n",
       "    .dataframe thead th {\n",
       "        text-align: right;\n",
       "    }\n",
       "</style>\n",
       "<table border=\"1\" class=\"dataframe\">\n",
       "  <thead>\n",
       "    <tr style=\"text-align: right;\">\n",
       "      <th></th>\n",
       "      <th>ts</th>\n",
       "      <th>tunf</th>\n",
       "    </tr>\n",
       "  </thead>\n",
       "  <tbody>\n",
       "    <tr>\n",
       "      <th>0</th>\n",
       "      <td>2021-08-01 08:10:03</td>\n",
       "      <td>NaT</td>\n",
       "    </tr>\n",
       "    <tr>\n",
       "      <th>1</th>\n",
       "      <td>2021-08-01 08:25:49</td>\n",
       "      <td>0 days 00:15:46</td>\n",
       "    </tr>\n",
       "    <tr>\n",
       "      <th>2</th>\n",
       "      <td>2021-08-01 08:32:12</td>\n",
       "      <td>0 days 00:06:23</td>\n",
       "    </tr>\n",
       "    <tr>\n",
       "      <th>3</th>\n",
       "      <td>2021-08-01 08:35:24</td>\n",
       "      <td>0 days 00:03:12</td>\n",
       "    </tr>\n",
       "    <tr>\n",
       "      <th>4</th>\n",
       "      <td>2021-08-01 08:45:27</td>\n",
       "      <td>0 days 00:10:03</td>\n",
       "    </tr>\n",
       "  </tbody>\n",
       "</table>\n",
       "</div>"
      ],
      "text/plain": [
       "                   ts            tunf\n",
       "0 2021-08-01 08:10:03             NaT\n",
       "1 2021-08-01 08:25:49 0 days 00:15:46\n",
       "2 2021-08-01 08:32:12 0 days 00:06:23\n",
       "3 2021-08-01 08:35:24 0 days 00:03:12\n",
       "4 2021-08-01 08:45:27 0 days 00:10:03"
      ]
     },
     "execution_count": 25,
     "metadata": {},
     "output_type": "execute_result"
    }
   ],
   "source": [
    "tdf.head()"
   ]
  },
  {
   "cell_type": "code",
   "execution_count": 27,
   "id": "611cc805",
   "metadata": {},
   "outputs": [
    {
     "name": "stdout",
     "output_type": "stream",
     "text": [
      "<class 'pandas.core.frame.DataFrame'>\n",
      "RangeIndex: 390 entries, 0 to 389\n",
      "Data columns (total 2 columns):\n",
      " #   Column  Non-Null Count  Dtype          \n",
      "---  ------  --------------  -----          \n",
      " 0   ts      390 non-null    datetime64[ns] \n",
      " 1   tunf    389 non-null    timedelta64[ns]\n",
      "dtypes: datetime64[ns](1), timedelta64[ns](1)\n",
      "memory usage: 6.2 KB\n"
     ]
    }
   ],
   "source": [
    "tdf.info()"
   ]
  },
  {
   "cell_type": "code",
   "execution_count": 34,
   "id": "ab6e3ee0",
   "metadata": {},
   "outputs": [],
   "source": [
    "tdf['sunf'] = tdf.apply(lambda row: row.tunf.total_seconds(), axis=1)"
   ]
  },
  {
   "cell_type": "code",
   "execution_count": 35,
   "id": "1087db8e",
   "metadata": {},
   "outputs": [
    {
     "data": {
      "text/html": [
       "<div>\n",
       "<style scoped>\n",
       "    .dataframe tbody tr th:only-of-type {\n",
       "        vertical-align: middle;\n",
       "    }\n",
       "\n",
       "    .dataframe tbody tr th {\n",
       "        vertical-align: top;\n",
       "    }\n",
       "\n",
       "    .dataframe thead th {\n",
       "        text-align: right;\n",
       "    }\n",
       "</style>\n",
       "<table border=\"1\" class=\"dataframe\">\n",
       "  <thead>\n",
       "    <tr style=\"text-align: right;\">\n",
       "      <th></th>\n",
       "      <th>ts</th>\n",
       "      <th>tunf</th>\n",
       "      <th>sunf</th>\n",
       "    </tr>\n",
       "  </thead>\n",
       "  <tbody>\n",
       "    <tr>\n",
       "      <th>0</th>\n",
       "      <td>2021-08-01 08:10:03</td>\n",
       "      <td>NaT</td>\n",
       "      <td>NaN</td>\n",
       "    </tr>\n",
       "    <tr>\n",
       "      <th>1</th>\n",
       "      <td>2021-08-01 08:25:49</td>\n",
       "      <td>0 days 00:15:46</td>\n",
       "      <td>946.0</td>\n",
       "    </tr>\n",
       "    <tr>\n",
       "      <th>2</th>\n",
       "      <td>2021-08-01 08:32:12</td>\n",
       "      <td>0 days 00:06:23</td>\n",
       "      <td>383.0</td>\n",
       "    </tr>\n",
       "    <tr>\n",
       "      <th>3</th>\n",
       "      <td>2021-08-01 08:35:24</td>\n",
       "      <td>0 days 00:03:12</td>\n",
       "      <td>192.0</td>\n",
       "    </tr>\n",
       "    <tr>\n",
       "      <th>4</th>\n",
       "      <td>2021-08-01 08:45:27</td>\n",
       "      <td>0 days 00:10:03</td>\n",
       "      <td>603.0</td>\n",
       "    </tr>\n",
       "  </tbody>\n",
       "</table>\n",
       "</div>"
      ],
      "text/plain": [
       "                   ts            tunf   sunf\n",
       "0 2021-08-01 08:10:03             NaT    NaN\n",
       "1 2021-08-01 08:25:49 0 days 00:15:46  946.0\n",
       "2 2021-08-01 08:32:12 0 days 00:06:23  383.0\n",
       "3 2021-08-01 08:35:24 0 days 00:03:12  192.0\n",
       "4 2021-08-01 08:45:27 0 days 00:10:03  603.0"
      ]
     },
     "execution_count": 35,
     "metadata": {},
     "output_type": "execute_result"
    }
   ],
   "source": [
    "tdf.head()"
   ]
  },
  {
   "cell_type": "code",
   "execution_count": 37,
   "id": "c7ff2e90",
   "metadata": {},
   "outputs": [],
   "source": [
    "tdf.to_csv(\"feedlist_interval.csv\", columns=['ts','sunf'], header=True)"
   ]
  },
  {
   "cell_type": "code",
   "execution_count": null,
   "id": "df392288",
   "metadata": {},
   "outputs": [],
   "source": []
  }
 ],
 "metadata": {
  "kernelspec": {
   "display_name": "Python 3 (ipykernel)",
   "language": "python",
   "name": "python3"
  },
  "language_info": {
   "codemirror_mode": {
    "name": "ipython",
    "version": 3
   },
   "file_extension": ".py",
   "mimetype": "text/x-python",
   "name": "python",
   "nbconvert_exporter": "python",
   "pygments_lexer": "ipython3",
   "version": "3.9.7"
  }
 },
 "nbformat": 4,
 "nbformat_minor": 5
}
